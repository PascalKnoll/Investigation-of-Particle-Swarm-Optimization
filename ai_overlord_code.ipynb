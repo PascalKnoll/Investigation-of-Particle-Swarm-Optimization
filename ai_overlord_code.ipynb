{
 "cells": [
  {
   "cell_type": "code",
   "execution_count": null,
   "metadata": {},
   "outputs": [],
   "source": [
    "# a function optimizing via pso\n",
    "def pso(func, lb, ub, args=(), maxiter=100, swarmsize=100, c1=2, c2=2, w=0.9,\n",
    "        tol=1e-6):\n",
    "    # get the number of dimensions\n",
    "    dim = len(lb)\n",
    "\n",
    "    # initialize the position and velocity arrays\n",
    "    x = np.random.rand(swarmsize, dim)\n",
    "    v = np.zeros_like(x)\n",
    "\n",
    "    # initialize the objective function history array\n",
    "    f = np.zeros(maxiter)\n",
    "\n",
    "    # initialize the particle's best position\n",
    "    p = np.zeros_like(x)\n",
    "\n",
    "    # initialize the particle's best objective function history array\n",
    "    g = np.zeros_like(f)\n",
    "\n",
    "    # initialize the swarm's best position\n",
    "    s = np.zeros(dim)\n",
    "\n",
    "    # initialize the swarm's best objective function history array\n",
    "    y = np.zeros(maxiter)\n",
    "\n",
    "    # initialize the swarm's best position history array\n",
    "    z = np.zeros((maxiter, dim))\n",
    "\n",
    "    # begin optimization loop\n",
    "    for t in range(maxiter):\n",
    "        # update the velocity\n",
    "        v = w * v + c1 * np.random.rand(swarmsize, dim) * (p - x) + \\\n",
    "            c2 * np.random.rand(swarmsize, dim) * (s - x)\n",
    "\n",
    "        # update the position\n",
    "        x = x + v\n",
    "\n",
    "        # evaluate the objective function for each particle\n",
    "        for i in range(swarmsize):\n",
    "            f[t, i] = func(x[i], *args)\n",
    "\n",
    "        # update the swarm's best position\n",
    "        i = np.argmin(f[t, :])\n",
    "        s = x[i]\n",
    "\n",
    "        # update the swarm's best objective function value\n",
    "        y[t] = f[t, i]\n",
    "\n",
    "        # update the swarm's best position history\n",
    "        z[t, :] = s\n",
    "\n",
    "        # update the particle's best position\n",
    "        for i in range(swarmsize):\n",
    "            if f[t, i] < g[i]:\n",
    "                p[i] = x[i]\n",
    "                g[i] = f[t, i]\n",
    "\n",
    "        # update the particle's best position history\n",
    "        for i in range(swarmsize):\n",
    "            if f[t, i] < g[i]:\n",
    "                p[i] = x[i]\n",
    "                g[i] = f[t, i]"
   ]
  },
  {
   "cell_type": "code",
   "execution_count": null,
   "metadata": {},
   "outputs": [],
   "source": [
    "from sklearn.gaussian_process import GaussianProcessRegressor\n",
    "from sklearn.gaussian_process.kernels import RBF, ConstantKernel as C\n",
    "def gaussian_process_regressor():\n",
    "    \"\"\"\n",
    "    This function is used to test the gaussian process regressor.\n",
    "    \"\"\"\n",
    "    # Generate data\n",
    "    x = np.linspace(0, 1, 100)\n",
    "    y = np.sin(2 * np.pi * x) + np.random.normal(0, 0.1, 100)\n",
    "    # y = 20 + \n",
    "\n",
    "    # Fit the model\n",
    "    kernel = C(1.0, (1e-3, 1e3)) * RBF(10, (1e-2, 1e2))\n",
    "    gpr = GaussianProcessRegressor(kernel=kernel, n_restarts_optimizer=10)\n",
    "    gpr.fit(x[:, np.newaxis], y)\n",
    "\n",
    "    # Predict\n",
    "    x_new = np.linspace(0, 1, 1000)\n",
    "    y_new = gpr.predict(x_new[:, np.newaxis])\n",
    "\n",
    "    # Plot the results\n",
    "    import matplotlib.pyplot as plt\n",
    "    plt.figure(figsize=(10, 5))\n",
    "    plt.scatter(x, y, label=\"Training data\")\n",
    "    plt.plot(x_new, y_new, label=\"Prediction\")\n",
    "    plt.xlabel(\"x\")\n",
    "    plt.ylabel(\"y\")\n",
    "    plt.legend()\n",
    "    plt.show()\n",
    "    return gpr"
   ]
  },
  {
   "cell_type": "code",
   "execution_count": null,
   "metadata": {},
   "outputs": [],
   "source": [
    "gaussian_process_regressor()"
   ]
  },
  {
   "cell_type": "code",
   "execution_count": 5,
   "metadata": {},
   "outputs": [
    {
     "data": {
      "image/png": "[encoded data removed]",
      "text/plain": [
       "<Figure size 576x432 with 2 Axes>"
      ]
     },
     "metadata": {
      "needs_background": "light"
     },
     "output_type": "display_data"
    }
   ],
   "source": [
    "import numpy as np\n",
    "import matplotlib.pyplot as plt\n",
    " \n",
    "def f(x,y):\n",
    "    \"Objective function\"\n",
    "    return (x-3.14)**2 + (y-2.72)**2 + np.sin(3*x+1.41) + np.sin(4*y-1.73)\n",
    " \n",
    "# Contour plot: With the global minimum showed as \"X\" on the plot\n",
    "x, y = np.array(np.meshgrid(np.linspace(-2.5,-1.5,10000), np.linspace(1.5,2.5,10000)))\n",
    "z = f(x, y)\n",
    "x_min = x.ravel()[z.argmin()]\n",
    "y_min = y.ravel()[z.argmin()]\n",
    "plt.figure(figsize=(8,6))\n",
    "plt.imshow(z, extent=[0, 5, 0, 5], origin='lower', cmap='viridis', alpha=0.5)\n",
    "plt.colorbar()\n",
    "plt.plot([x_min], [y_min], marker='x', markersize=5, color=\"white\")\n",
    "contours = plt.contour(x, y, z, 10, colors='black', alpha=0.4)\n",
    "plt.clabel(contours, inline=True, fontsize=8, fmt=\"%.0f\")\n",
    "plt.show()"
   ]
  },
  {
   "cell_type": "code",
   "execution_count": null,
   "metadata": {},
   "outputs": [],
   "source": []
  }
 ],
 "metadata": {
  "kernelspec": {
   "display_name": "Python 3.10.0 64-bit",
   "language": "python",
   "name": "python3"
  },
  "language_info": {
   "name": "python",
   "version": "3.10.0"
  },
  "orig_nbformat": 4,
  "vscode": {
   "interpreter": {
    "hash": "1b84b039aa7a20a955565ead911991346c7283676dff40706c0f3d403f717453"
   }
  }
 },
 "nbformat": 4,
 "nbformat_minor": 2
}
