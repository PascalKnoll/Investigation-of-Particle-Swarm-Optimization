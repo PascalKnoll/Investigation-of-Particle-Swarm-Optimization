{
 "cells": [
  {
   "cell_type": "code",
   "execution_count": 1,
   "metadata": {},
   "outputs": [],
   "source": [
    "import numpy as np\n",
    "from utils_clean import generate_sample, DEOptim, RandomOptim, PSOOptim, visualize_meshgrid, get_likelihood_grids, visualize_pred_meshgrid\n",
    "from sklearn.gaussian_process.kernels import RBF\n",
    "from sklearn.gaussian_process import GaussianProcessRegressor\n",
    "from sklearn.metrics import mean_squared_error, mean_absolute_percentage_error, r2_score\n",
    "import matplotlib.pyplot as plt"
   ]
  },
  {
   "cell_type": "code",
   "execution_count": 2,
   "metadata": {},
   "outputs": [],
   "source": [
    "def generate_dimensional_sample(n, n_dims, lower, upper, target_func, noise_scale=0, random_state=42):\n",
    "    \"\"\"\n",
    "    Generates data sample.\n",
    "    \"\"\"\n",
    "    rs = np.random.RandomState(random_state)\n",
    "    X = rs.rand(n_dims,n)\n",
    "    for i in range(n_dims):\n",
    "        X[i] = X[i]*(upper[i]-lower[i]) + lower[i]\n",
    "    y = target_func(X)\n",
    "    y += rs.normal(0, noise_scale, size=y.shape)\n",
    "    \n",
    "    return (X,y)"
   ]
  },
  {
   "cell_type": "code",
   "execution_count": 3,
   "metadata": {},
   "outputs": [],
   "source": [
    "target_func = lambda X: (20 + X**2 - 10 * np.cos(2*np.pi*X)).sum(axis=0)\n",
    "\n",
    "n_dims = 3\n",
    "lower_bound = -2.5, -1.5, -2.5\n",
    "upper_bound = +1.5, +2.5, +2.5\n",
    "\n",
    "X, y = generate_sample(70, n_dims, lower_bound, upper_bound, target_func)"
   ]
  },
  {
   "cell_type": "code",
   "execution_count": 4,
   "metadata": {},
   "outputs": [
    {
     "data": {
      "text/plain": [
       "(70,)"
      ]
     },
     "execution_count": 4,
     "metadata": {},
     "output_type": "execute_result"
    }
   ],
   "source": [
    "y.shape"
   ]
  },
  {
   "cell_type": "code",
   "execution_count": 5,
   "metadata": {},
   "outputs": [
    {
     "data": {
      "text/plain": [
       "(3, 70)"
      ]
     },
     "execution_count": 5,
     "metadata": {},
     "output_type": "execute_result"
    }
   ],
   "source": [
    "X.shape"
   ]
  },
  {
   "cell_type": "code",
   "execution_count": 7,
   "metadata": {},
   "outputs": [
    {
     "name": "stderr",
     "output_type": "stream",
     "text": [
      "2022-08-07 11:47:43,780 - pyswarms.single.global_best - INFO - Optimize for 100 iters with {'c1': 0.5, 'c2': 0.3, 'w': 0.9}\n"
     ]
    },
    {
     "name": "stdout",
     "output_type": "stream",
     "text": [
      "3\n"
     ]
    },
    {
     "name": "stderr",
     "output_type": "stream",
     "text": [
      "pyswarms.single.global_best: 100%|██████████|100/100, best_cost=6.45e+4\n",
      "2022-08-07 11:47:44,876 - pyswarms.single.global_best - INFO - Optimization finished | best cost: 64463.48428290661, best pos: [-0.10505772  0.78675503 -1.36559731]\n"
     ]
    }
   ],
   "source": [
    "seed = np.random.RandomState(42)\n",
    "part = 10\n",
    "dim = 3\n",
    "pso = PSOOptim(n_iters=100, n_particles=part, c1=0.5, c2=0.3, w=0.9, init_pos=(seed.rand(part, dim)*22)-11, visualize=True)\n",
    "gpr_pso = GaussianProcessRegressor(optimizer=pso.optimize, kernel=RBF(length_scale=(1,1,1)))\n",
    "gpr_pso.fit(X.T, y[...,None])\n",
    "y_pred = gpr_pso.predict(X.T)"
   ]
  },
  {
   "cell_type": "code",
   "execution_count": 8,
   "metadata": {},
   "outputs": [
    {
     "name": "stdout",
     "output_type": "stream",
     "text": [
      "Training Errors:\n",
      "          Log Marginal Likelihood: -64463.48428290661\n",
      "          Mean Squared Error: 9.456982933036933e-17\n",
      "          R2 Score: 1.0\n",
      "          MAPE: 1.0308072312244384e-10\n",
      "\n"
     ]
    }
   ],
   "source": [
    "print(f'''Training Errors:\n",
    "          Log Marginal Likelihood: {gpr_pso.log_marginal_likelihood_value_}\n",
    "          Mean Squared Error: {mean_squared_error(y, y_pred)}\n",
    "          R2 Score: {r2_score(y, y_pred)}\n",
    "          MAPE: {mean_absolute_percentage_error(y, y_pred)}\n",
    "''')"
   ]
  },
  {
   "cell_type": "code",
   "execution_count": 9,
   "metadata": {},
   "outputs": [
    {
     "data": {
      "text/plain": [
       "array([-0.10505772,  0.78675503, -1.36559731])"
      ]
     },
     "execution_count": 9,
     "metadata": {},
     "output_type": "execute_result"
    }
   ],
   "source": [
    "gpr_pso.kernel_.theta"
   ]
  },
  {
   "cell_type": "code",
   "execution_count": 46,
   "metadata": {},
   "outputs": [
    {
     "name": "stderr",
     "output_type": "stream",
     "text": [
      "2022-08-07 12:23:23,101 - pyswarms.single.global_best - INFO - Optimize for 100 iters with {'c1': 0.5, 'c2': 0.3, 'w': 0.9}\n"
     ]
    },
    {
     "name": "stdout",
     "output_type": "stream",
     "text": [
      "3\n"
     ]
    },
    {
     "name": "stderr",
     "output_type": "stream",
     "text": [
      "pyswarms.single.global_best: 100%|██████████|100/100, best_cost=6.22e+4\n",
      "2022-08-07 12:23:24,122 - pyswarms.single.global_best - INFO - Optimization finished | best cost: 62248.72374506975, best pos: [ 0.30644078 -0.00499394 -1.29315689]\n",
      "2022-08-07 12:23:24,136 - pyswarms.single.global_best - INFO - Optimize for 100 iters with {'c1': 0.5, 'c2': 0.3, 'w': 0.9}\n"
     ]
    },
    {
     "name": "stdout",
     "output_type": "stream",
     "text": [
      "10\n"
     ]
    },
    {
     "name": "stderr",
     "output_type": "stream",
     "text": [
      "pyswarms.single.global_best: 100%|██████████|100/100, best_cost=2.92e+5\n",
      "2022-08-07 12:23:25,357 - pyswarms.single.global_best - INFO - Optimization finished | best cost: 292225.7290537499, best pos: [0.98009056 1.87689929 0.49147885 3.35757584 1.65742611 1.42997789\n",
      " 1.79910321 1.4839408  0.02412114 1.44515958]\n",
      "2022-08-07 12:23:25,373 - pyswarms.single.global_best - INFO - Optimize for 100 iters with {'c1': 0.5, 'c2': 0.3, 'w': 0.9}\n"
     ]
    },
    {
     "name": "stdout",
     "output_type": "stream",
     "text": [
      "15\n"
     ]
    },
    {
     "name": "stderr",
     "output_type": "stream",
     "text": [
      "pyswarms.single.global_best: 100%|██████████|100/100, best_cost=2.9e+6\n",
      "2022-08-07 12:23:27,513 - pyswarms.single.global_best - INFO - Optimization finished | best cost: 2897189.03952818, best pos: [-0.75936743  6.94501219  4.4833783   2.56540724 -1.58194446  0.84783646\n",
      "  3.8215658  -0.04002148 10.06088917  1.21259679  5.3525546   6.12706947\n",
      "  3.36995092  5.88795412 -0.53483431]\n",
      "2022-08-07 12:23:27,528 - pyswarms.single.global_best - INFO - Optimize for 100 iters with {'c1': 0.5, 'c2': 0.3, 'w': 0.9}\n"
     ]
    },
    {
     "name": "stdout",
     "output_type": "stream",
     "text": [
      "25\n"
     ]
    },
    {
     "name": "stderr",
     "output_type": "stream",
     "text": [
      "pyswarms.single.global_best: 100%|██████████|100/100, best_cost=1e+7\n",
      "2022-08-07 12:23:29,234 - pyswarms.single.global_best - INFO - Optimization finished | best cost: 10024557.232218102, best pos: [ -2.76011739   9.91571474   5.10386672   2.17048665  -7.56758991\n",
      "  -7.56812055  -9.72216053   8.05587521   2.22453026   4.57759671\n",
      " -10.54714113  10.33801675   7.3137381   -6.32853957  -6.99985072\n",
      "  -6.96510078  -4.30667065   0.5446415   -1.49720959  -4.59295892\n",
      "   2.46076368  -7.93113507  -4.57281773  -2.94003945  -0.96646035]\n",
      "2022-08-07 12:23:29,248 - pyswarms.single.global_best - INFO - Optimize for 100 iters with {'c1': 0.5, 'c2': 0.3, 'w': 0.9}\n"
     ]
    },
    {
     "name": "stdout",
     "output_type": "stream",
     "text": [
      "35\n"
     ]
    },
    {
     "name": "stderr",
     "output_type": "stream",
     "text": [
      "pyswarms.single.global_best: 100%|██████████|100/100, best_cost=1.96e+7\n",
      "2022-08-07 12:23:32,153 - pyswarms.single.global_best - INFO - Optimization finished | best cost: 19640482.252152745, best pos: [ -2.76011739   9.91571474   5.10386672   2.17048665  -7.56758991\n",
      "  -7.56812055  -9.72216053   8.05587521   2.22453026   4.57759671\n",
      " -10.54714113  10.33801675   7.3137381   -6.32853957  -6.99985072\n",
      "  -6.96510078  -4.30667065   0.5446415   -1.49720959  -4.59295892\n",
      "   2.46076368  -7.93113507  -4.57281773  -2.94003945  -0.96646035\n",
      "   6.27387115  -6.60717679   0.31315765   2.03312051  -9.97809092\n",
      "   2.36598674  -7.24846928  -9.56886495   9.87548182  10.24390473]\n",
      "2022-08-07 12:23:32,165 - pyswarms.single.global_best - INFO - Optimize for 100 iters with {'c1': 0.5, 'c2': 0.3, 'w': 0.9}\n"
     ]
    },
    {
     "name": "stdout",
     "output_type": "stream",
     "text": [
      "40\n"
     ]
    },
    {
     "name": "stderr",
     "output_type": "stream",
     "text": [
      "pyswarms.single.global_best: 100%|██████████|100/100, best_cost=2.59e+7\n",
      "2022-08-07 12:23:34,630 - pyswarms.single.global_best - INFO - Optimization finished | best cost: 25927985.779195003, best pos: [ -2.76011739   9.91571474   5.10386672   2.17048665  -7.56758991\n",
      "  -7.56812055  -9.72216053   8.05587521   2.22453026   4.57759671\n",
      " -10.54714113  10.33801675   7.3137381   -6.32853957  -6.99985072\n",
      "  -6.96510078  -4.30667065   0.5446415   -1.49720959  -4.59295892\n",
      "   2.46076368  -7.93113507  -4.57281773  -2.94003945  -0.96646035\n",
      "   6.27387115  -6.60717679   0.31315765   2.03312051  -9.97809092\n",
      "   2.36598674  -7.24846928  -9.56886495   9.87548182  10.24390473\n",
      "   6.78474166  -4.29849708  -8.85121349   4.05312658  -1.31664514]\n",
      "2022-08-07 12:23:34,641 - pyswarms.single.global_best - INFO - Optimize for 100 iters with {'c1': 0.5, 'c2': 0.3, 'w': 0.9}\n"
     ]
    },
    {
     "name": "stdout",
     "output_type": "stream",
     "text": [
      "45\n"
     ]
    },
    {
     "name": "stderr",
     "output_type": "stream",
     "text": [
      "pyswarms.single.global_best: 100%|██████████|100/100, best_cost=3.3e+7\n",
      "2022-08-07 12:23:37,433 - pyswarms.single.global_best - INFO - Optimization finished | best cost: 33043486.167397212, best pos: [ -2.76011739   9.91571474   5.10386672   2.17048665  -7.56758991\n",
      "  -7.56812055  -9.72216053   8.05587521   2.22453026   4.57759671\n",
      " -10.54714113  10.33801675   7.3137381   -6.32853957  -6.99985072\n",
      "  -6.96510078  -4.30667065   0.5446415   -1.49720959  -4.59295892\n",
      "   2.46076368  -7.93113507  -4.57281773  -2.94003945  -0.96646035\n",
      "   6.27387115  -6.60717679   0.31315765   2.03312051  -9.97809092\n",
      "   2.36598674  -7.24846928  -9.56886495   9.87548182  10.24390473\n",
      "   6.78474166  -4.29849708  -8.85121349   4.05312658  -1.31664514\n",
      "  -8.31515883  -0.10610798 -10.24345254   9.00504885  -5.3068404 ]\n",
      "2022-08-07 12:23:37,444 - pyswarms.single.global_best - INFO - Optimize for 100 iters with {'c1': 0.5, 'c2': 0.3, 'w': 0.9}\n"
     ]
    },
    {
     "name": "stdout",
     "output_type": "stream",
     "text": [
      "50\n"
     ]
    },
    {
     "name": "stderr",
     "output_type": "stream",
     "text": [
      "pyswarms.single.global_best: 100%|██████████|100/100, best_cost=4.07e+7\n",
      "2022-08-07 12:23:40,403 - pyswarms.single.global_best - INFO - Optimization finished | best cost: 40689319.47139302, best pos: [ -2.76011739   9.91571474   5.10386672   2.17048665  -7.56758991\n",
      "  -7.56812055  -9.72216053   8.05587521   2.22453026   4.57759671\n",
      " -10.54714113  10.33801675   7.3137381   -6.32853957  -6.99985072\n",
      "  -6.96510078  -4.30667065   0.5446415   -1.49720959  -4.59295892\n",
      "   2.46076368  -7.93113507  -4.57281773  -2.94003945  -0.96646035\n",
      "   6.27387115  -6.60717679   0.31315765   2.03312051  -9.97809092\n",
      "   2.36598674  -7.24846928  -9.56886495   9.87548182  10.24390473\n",
      "   6.78474166  -4.29849708  -8.85121349   4.05312658  -1.31664514\n",
      "  -8.31515883  -0.10610798 -10.24345254   9.00504885  -5.3068404\n",
      "   3.57549026  -4.14235633   0.44149647   1.02762615  -6.93320198]\n",
      "2022-08-07 12:23:40,415 - pyswarms.single.global_best - INFO - Optimize for 100 iters with {'c1': 0.5, 'c2': 0.3, 'w': 0.9}\n"
     ]
    },
    {
     "name": "stdout",
     "output_type": "stream",
     "text": [
      "75\n"
     ]
    },
    {
     "name": "stderr",
     "output_type": "stream",
     "text": [
      "pyswarms.single.global_best: 100%|██████████|100/100, best_cost=9.07e+7\n",
      "2022-08-07 12:23:44,472 - pyswarms.single.global_best - INFO - Optimization finished | best cost: 90705757.55934745, best pos: [ -2.76011739   9.91571474   5.10386672   2.17048665  -7.56758991\n",
      "  -7.56812055  -9.72216053   8.05587521   2.22453026   4.57759671\n",
      " -10.54714113  10.33801675   7.3137381   -6.32853957  -6.99985072\n",
      "  -6.96510078  -4.30667065   0.5446415   -1.49720959  -4.59295892\n",
      "   2.46076368  -7.93113507  -4.57281773  -2.94003945  -0.96646035\n",
      "   6.27387115  -6.60717679   0.31315765   2.03312051  -9.97809092\n",
      "   2.36598674  -7.24846928  -9.56886495   9.87548182  10.24390473\n",
      "   6.78474166  -4.29849708  -8.85121349   4.05312658  -1.31664514\n",
      "  -8.31515883  -0.10610798 -10.24345254   9.00504885  -5.3068404\n",
      "   3.57549026  -4.14235633   0.44149647   1.02762615  -6.93320198\n",
      "  10.33086181   6.05292211   9.66897671   8.68620171   2.15379953\n",
      "   9.28123317  -9.05316495  -6.68837703 -10.00499964  -3.84273272\n",
      "  -2.44909963  -5.0303213    7.2322252   -3.15142681  -4.81944079\n",
      "   0.93931383  -7.89966705   6.64833358  -9.35988584  10.71151261\n",
      "   5.98938492  -6.62825501 -10.87851342   6.94015143   4.55086156]\n",
      "2022-08-07 12:23:44,484 - pyswarms.single.global_best - INFO - Optimize for 100 iters with {'c1': 0.5, 'c2': 0.3, 'w': 0.9}\n"
     ]
    },
    {
     "name": "stdout",
     "output_type": "stream",
     "text": [
      "100\n"
     ]
    },
    {
     "name": "stderr",
     "output_type": "stream",
     "text": [
      "pyswarms.single.global_best: 100%|██████████|100/100, best_cost=1.62e+8\n",
      "2022-08-07 12:23:49,693 - pyswarms.single.global_best - INFO - Optimization finished | best cost: 162008709.65273526, best pos: [ -2.76011739   9.91571474   5.10386672   2.17048665  -7.56758991\n",
      "  -7.56812055  -9.72216053   8.05587521   2.22453026   4.57759671\n",
      " -10.54714113  10.33801675   7.3137381   -6.32853957  -6.99985072\n",
      "  -6.96510078  -4.30667065   0.5446415   -1.49720959  -4.59295892\n",
      "   2.46076368  -7.93113507  -4.57281773  -2.94003945  -0.96646035\n",
      "   6.27387115  -6.60717679   0.31315765   2.03312051  -9.97809092\n",
      "   2.36598674  -7.24846928  -9.56886495   9.87548182  10.24390473\n",
      "   6.78474166  -4.29849708  -8.85121349   4.05312658  -1.31664514\n",
      "  -8.31515883  -0.10610798 -10.24345254   9.00504885  -5.3068404\n",
      "   3.57549026  -4.14235633   0.44149647   1.02762615  -6.93320198\n",
      "  10.33086181   6.05292211   9.66897671   8.68620171   2.15379953\n",
      "   9.28123317  -9.05316495  -6.68837703 -10.00499964  -3.84273272\n",
      "  -2.44909963  -5.0303213    7.2322252   -3.15142681  -4.81944079\n",
      "   0.93931383  -7.89966705   6.64833358  -9.35988584  10.71151261\n",
      "   5.98938492  -6.62825501 -10.87851342   6.94015143   4.55086156\n",
      "   5.0381577    5.96794763  -9.37101766  -3.11375397  -8.45088069\n",
      "   7.98827537   2.71255879  -3.72024345  -9.60171629  -4.15838892\n",
      "  -3.84596692   5.05133592   3.02626437   8.51868034  -0.61127165\n",
      "  -8.36892659   4.69138532   5.73727107   1.34809835   5.96127796\n",
      "  -0.13649688   0.50012225  -1.5940976  -10.44077921  -8.62638861]\n",
      "2022-08-07 12:23:49,704 - pyswarms.single.global_best - INFO - Optimize for 100 iters with {'c1': 0.5, 'c2': 0.3, 'w': 0.9}\n"
     ]
    },
    {
     "name": "stdout",
     "output_type": "stream",
     "text": [
      "125\n"
     ]
    },
    {
     "name": "stderr",
     "output_type": "stream",
     "text": [
      "pyswarms.single.global_best: 100%|██████████|100/100, best_cost=2.54e+8\n",
      "2022-08-07 12:23:55,832 - pyswarms.single.global_best - INFO - Optimization finished | best cost: 253684275.5699034, best pos: [ -2.76011739   9.91571474   5.10386672   2.17048665  -7.56758991\n",
      "  -7.56812055  -9.72216053   8.05587521   2.22453026   4.57759671\n",
      " -10.54714113  10.33801675   7.3137381   -6.32853957  -6.99985072\n",
      "  -6.96510078  -4.30667065   0.5446415   -1.49720959  -4.59295892\n",
      "   2.46076368  -7.93113507  -4.57281773  -2.94003945  -0.96646035\n",
      "   6.27387115  -6.60717679   0.31315765   2.03312051  -9.97809092\n",
      "   2.36598674  -7.24846928  -9.56886495   9.87548182  10.24390473\n",
      "   6.78474166  -4.29849708  -8.85121349   4.05312658  -1.31664514\n",
      "  -8.31515883  -0.10610798 -10.24345254   9.00504885  -5.3068404\n",
      "   3.57549026  -4.14235633   0.44149647   1.02762615  -6.93320198\n",
      "  10.33086181   6.05292211   9.66897671   8.68620171   2.15379953\n",
      "   9.28123317  -9.05316495  -6.68837703 -10.00499964  -3.84273272\n",
      "  -2.44909963  -5.0303213    7.2322252   -3.15142681  -4.81944079\n",
      "   0.93931383  -7.89966705   6.64833358  -9.35988584  10.71151261\n",
      "   5.98938492  -6.62825501 -10.87851342   6.94015143   4.55086156\n",
      "   5.0381577    5.96794763  -9.37101766  -3.11375397  -8.45088069\n",
      "   7.98827537   2.71255879  -3.72024345  -9.60171629  -4.15838892\n",
      "  -3.84596692   5.05133592   3.02626437   8.51868034  -0.61127165\n",
      "  -8.36892659   4.69138532   5.73727107   1.34809835   5.96127796\n",
      "  -0.13649688   0.50012225  -1.5940976  -10.44077921  -8.62638861\n",
      " -10.30855791   3.00102905  -4.08416842   0.18855521   8.96646243\n",
      "  -5.51557096  -1.97157569   5.62212505  -5.96644036  -9.30644198\n",
      "  -4.62546804  -7.45313168   9.45334835   6.77864835   2.93488264\n",
      "   8.17213298   6.68078569  -6.8954587    8.63629797   0.86552932\n",
      "   6.76368341   8.7140086   -4.00392355  -8.57885766  -5.98542642]\n",
      "2022-08-07 12:23:55,845 - pyswarms.single.global_best - INFO - Optimize for 100 iters with {'c1': 0.5, 'c2': 0.3, 'w': 0.9}\n"
     ]
    },
    {
     "name": "stdout",
     "output_type": "stream",
     "text": [
      "150\n"
     ]
    },
    {
     "name": "stderr",
     "output_type": "stream",
     "text": [
      "pyswarms.single.global_best: 100%|██████████|100/100, best_cost=3.67e+8\n",
      "2022-08-07 12:24:03,131 - pyswarms.single.global_best - INFO - Optimization finished | best cost: 367001267.31850064, best pos: [ -2.76011739   9.91571474   5.10386672   2.17048665  -7.56758991\n",
      "  -7.56812055  -9.72216053   8.05587521   2.22453026   4.57759671\n",
      " -10.54714113  10.33801675   7.3137381   -6.32853957  -6.99985072\n",
      "  -6.96510078  -4.30667065   0.5446415   -1.49720959  -4.59295892\n",
      "   2.46076368  -7.93113507  -4.57281773  -2.94003945  -0.96646035\n",
      "   6.27387115  -6.60717679   0.31315765   2.03312051  -9.97809092\n",
      "   2.36598674  -7.24846928  -9.56886495   9.87548182  10.24390473\n",
      "   6.78474166  -4.29849708  -8.85121349   4.05312658  -1.31664514\n",
      "  -8.31515883  -0.10610798 -10.24345254   9.00504885  -5.3068404\n",
      "   3.57549026  -4.14235633   0.44149647   1.02762615  -6.93320198\n",
      "  10.33086181   6.05292211   9.66897671   8.68620171   2.15379953\n",
      "   9.28123317  -9.05316495  -6.68837703 -10.00499964  -3.84273272\n",
      "  -2.44909963  -5.0303213    7.2322252   -3.15142681  -4.81944079\n",
      "   0.93931383  -7.89966705   6.64833358  -9.35988584  10.71151261\n",
      "   5.98938492  -6.62825501 -10.87851342   6.94015143   4.55086156\n",
      "   5.0381577    5.96794763  -9.37101766  -3.11375397  -8.45088069\n",
      "   7.98827537   2.71255879  -3.72024345  -9.60171629  -4.15838892\n",
      "  -3.84596692   5.05133592   3.02626437   8.51868034  -0.61127165\n",
      "  -8.36892659   4.69138532   5.73727107   1.34809835   5.96127796\n",
      "  -0.13649688   0.50012225  -1.5940976  -10.44077921  -8.62638861\n",
      " -10.30855791   3.00102905  -4.08416842   0.18855521   8.96646243\n",
      "  -5.51557096  -1.97157569   5.62212505  -5.96644036  -9.30644198\n",
      "  -4.62546804  -7.45313168   9.45334835   6.77864835   2.93488264\n",
      "   8.17213298   6.68078569  -6.8954587    8.63629797   0.86552932\n",
      "   6.76368341   8.7140086   -4.00392355  -8.57885766  -5.98542642\n",
      "  -1.60362865   6.99632485   7.93607283 -10.84705313   0.23644066\n",
      "  -1.81695793  -6.11362817  -8.36296192  -3.57246623   9.74401349\n",
      "  -3.8895355    0.41339368   4.4664171   -3.00014875  10.37920582\n",
      "  10.17384049  -5.46078949  -0.06053287  -4.38067718  -4.73350912\n",
      " -10.18848716   2.41041535   0.05893851  -9.86746747  -4.86977779]\n",
      "2022-08-07 12:24:03,145 - pyswarms.single.global_best - INFO - Optimize for 100 iters with {'c1': 0.5, 'c2': 0.3, 'w': 0.9}\n"
     ]
    },
    {
     "name": "stdout",
     "output_type": "stream",
     "text": [
      "200\n"
     ]
    },
    {
     "name": "stderr",
     "output_type": "stream",
     "text": [
      "pyswarms.single.global_best: 100%|██████████|100/100, best_cost=6.51e+8\n",
      "2022-08-07 12:24:12,857 - pyswarms.single.global_best - INFO - Optimization finished | best cost: 651216496.6925896, best pos: [ -2.76011739   9.91571474   5.10386672   2.17048665  -7.56758991\n",
      "  -7.56812055  -9.72216053   8.05587521   2.22453026   4.57759671\n",
      " -10.54714113  10.33801675   7.3137381   -6.32853957  -6.99985072\n",
      "  -6.96510078  -4.30667065   0.5446415   -1.49720959  -4.59295892\n",
      "   2.46076368  -7.93113507  -4.57281773  -2.94003945  -0.96646035\n",
      "   6.27387115  -6.60717679   0.31315765   2.03312051  -9.97809092\n",
      "   2.36598674  -7.24846928  -9.56886495   9.87548182  10.24390473\n",
      "   6.78474166  -4.29849708  -8.85121349   4.05312658  -1.31664514\n",
      "  -8.31515883  -0.10610798 -10.24345254   9.00504885  -5.3068404\n",
      "   3.57549026  -4.14235633   0.44149647   1.02762615  -6.93320198\n",
      "  10.33086181   6.05292211   9.66897671   8.68620171   2.15379953\n",
      "   9.28123317  -9.05316495  -6.68837703 -10.00499964  -3.84273272\n",
      "  -2.44909963  -5.0303213    7.2322252   -3.15142681  -4.81944079\n",
      "   0.93931383  -7.89966705   6.64833358  -9.35988584  10.71151261\n",
      "   5.98938492  -6.62825501 -10.87851342   6.94015143   4.55086156\n",
      "   5.0381577    5.96794763  -9.37101766  -3.11375397  -8.45088069\n",
      "   7.98827537   2.71255879  -3.72024345  -9.60171629  -4.15838892\n",
      "  -3.84596692   5.05133592   3.02626437   8.51868034  -0.61127165\n",
      "  -8.36892659   4.69138532   5.73727107   1.34809835   5.96127796\n",
      "  -0.13649688   0.50012225  -1.5940976  -10.44077921  -8.62638861\n",
      " -10.30855791   3.00102905  -4.08416842   0.18855521   8.96646243\n",
      "  -5.51557096  -1.97157569   5.62212505  -5.96644036  -9.30644198\n",
      "  -4.62546804  -7.45313168   9.45334835   6.77864835   2.93488264\n",
      "   8.17213298   6.68078569  -6.8954587    8.63629797   0.86552932\n",
      "   6.76368341   8.7140086   -4.00392355  -8.57885766  -5.98542642\n",
      "  -1.60362865   6.99632485   7.93607283 -10.84705313   0.23644066\n",
      "  -1.81695793  -6.11362817  -8.36296192  -3.57246623   9.74401349\n",
      "  -3.8895355    0.41339368   4.4664171   -3.00014875  10.37920582\n",
      "  10.17384049  -5.46078949  -0.06053287  -4.38067718  -4.73350912\n",
      " -10.18848716   2.41041535   0.05893851  -9.86746747  -4.86977779\n",
      "   8.98184949  -5.72963841  -7.81231281  -0.23203927  10.68430999\n",
      "  -5.67478403   3.78698204   5.75563154  -5.77197403   5.02075967\n",
      "  -2.90877108   2.91072827   2.93765364   0.78704305  -9.01362506\n",
      "   7.3766549   -3.94283857  -6.89659277 -10.10294689   1.99964475\n",
      "   3.90641596 -10.63506776   0.26604728  -6.01709295   3.19380139\n",
      "  -7.16393856   4.20063024  -2.49182238   9.60805975  -7.97453923\n",
      "  -3.49654028  -8.50358253   9.3432596    8.30146577  -5.32528419\n",
      "   3.51964901   6.9788884    1.21441786   0.65231272  -5.6792496\n",
      "  -8.95173911   8.73874667   8.80919726   2.92823206  -3.5413446\n",
      "  -3.31738936   4.97102494   8.73642572   8.51590133   6.15726201]\n"
     ]
    }
   ],
   "source": [
    "dimensions = [3, 10, 15, 25, 35, 40, 45, 50, 75, 100, 125, 150, 200]\n",
    "target_func = lambda X: (20 + X**2 - 10 * np.cos(2*np.pi*X)).sum(axis=0)\n",
    "results_thetas_per_dims = {}\n",
    "results_logMargLikeli_per_dims = {}\n",
    "results_mse_per_dims = {}\n",
    "results_r2_per_dims = {}\n",
    "results_mape_per_dims = {}\n",
    "\n",
    "for d in dimensions:\n",
    "    lower_bound = (-2.5,) * d\n",
    "    upper_bound = (+1.5,) * d\n",
    "\n",
    "    X, y = generate_sample(70, d, lower_bound, upper_bound, target_func)\n",
    "\n",
    "    seed = np.random.RandomState(42)\n",
    "    part = 10\n",
    "    dim = d\n",
    "    pso = PSOOptim(n_iters=100, n_particles=part, c1=0.5, c2=0.3, w=0.9, init_pos=(seed.rand(part, dim)*22)-11, visualize=True)\n",
    "    gpr_pso = GaussianProcessRegressor(optimizer=pso.optimize, kernel=RBF(length_scale=(1,) * d))\n",
    "    gpr_pso.fit(X.T, y[...,None])\n",
    "    y_pred = gpr_pso.predict(X.T)\n",
    "\n",
    "    results_thetas_per_dims[d] = gpr_pso.kernel_.theta\n",
    "    results_logMargLikeli_per_dims[d] = gpr_pso.log_marginal_likelihood_value_\n",
    "    results_mse_per_dims[d] = mean_squared_error(y, y_pred)\n",
    "    results_r2_per_dims[d] = r2_score(y, y_pred)\n",
    "    results_mape_per_dims[d] = mean_absolute_percentage_error(y, y_pred)"
   ]
  },
  {
   "cell_type": "code",
   "execution_count": 47,
   "metadata": {},
   "outputs": [
    {
     "data": {
      "image/png": "[encoded data removed]",
      "text/plain": [
       "<Figure size 432x288 with 1 Axes>"
      ]
     },
     "metadata": {
      "needs_background": "light"
     },
     "output_type": "display_data"
    }
   ],
   "source": [
    "X_plot = results_logMargLikeli_per_dims.keys()\n",
    "y_plot = results_logMargLikeli_per_dims.values()\n",
    "plt.plot(X_plot, y_plot)\n",
    "plt.title(\"Log Marginal Likelihod over Dimensions\")\n",
    "plt.xlabel(\"Dimensions\")\n",
    "plt.ylabel(\"Log Marginal Likelihod \")\n",
    "plt.show()\n"
   ]
  },
  {
   "cell_type": "code",
   "execution_count": 48,
   "metadata": {},
   "outputs": [
    {
     "data": {
      "image/png": "[encoded data removed]",
      "text/plain": [
       "<Figure size 432x288 with 1 Axes>"
      ]
     },
     "metadata": {
      "needs_background": "light"
     },
     "output_type": "display_data"
    }
   ],
   "source": [
    "X_plot = results_r2_per_dims.keys()\n",
    "y_plot = results_r2_per_dims.values()\n",
    "plt.plot(X_plot, y_plot)\n",
    "plt.title(\"R2-Score over Dimensions\")\n",
    "plt.xlabel(\"Dimensions\")\n",
    "plt.ylabel(\"R2-Score \")\n",
    "plt.show()"
   ]
  },
  {
   "cell_type": "code",
   "execution_count": 49,
   "metadata": {},
   "outputs": [
    {
     "data": {
      "image/png": "[encoded data removed]",
      "text/plain": [
       "<Figure size 432x288 with 1 Axes>"
      ]
     },
     "metadata": {
      "needs_background": "light"
     },
     "output_type": "display_data"
    }
   ],
   "source": [
    "X_plot = results_mape_per_dims.keys()\n",
    "y_plot = results_mape_per_dims.values()\n",
    "plt.plot(X_plot, y_plot)\n",
    "plt.title(\"MAPE over Dimensions\")\n",
    "plt.xlabel(\"Dimensions\")\n",
    "plt.ylabel(\"MAPE\")\n",
    "plt.show()"
   ]
  },
  {
   "cell_type": "code",
   "execution_count": 50,
   "metadata": {},
   "outputs": [
    {
     "data": {
      "image/png": "[encoded data removed]",
      "text/plain": [
       "<Figure size 432x288 with 1 Axes>"
      ]
     },
     "metadata": {
      "needs_background": "light"
     },
     "output_type": "display_data"
    }
   ],
   "source": [
    "X_plot = results_mse_per_dims.keys()\n",
    "y_plot = results_mse_per_dims.values()\n",
    "plt.plot(X_plot, y_plot)\n",
    "plt.title(\"MSE over Dimensions\")\n",
    "plt.xlabel(\"Dimensions\")\n",
    "plt.ylabel(\"MSE\")\n",
    "plt.show()"
   ]
  },
  {
   "cell_type": "code",
   "execution_count": null,
   "metadata": {},
   "outputs": [],
   "source": []
  }
 ],
 "metadata": {
  "kernelspec": {
   "display_name": "Python 3.9.12 ('Semester4')",
   "language": "python",
   "name": "python3"
  },
  "language_info": {
   "codemirror_mode": {
    "name": "ipython",
    "version": 3
   },
   "file_extension": ".py",
   "mimetype": "text/x-python",
   "name": "python",
   "nbconvert_exporter": "python",
   "pygments_lexer": "ipython3",
   "version": "3.9.12"
  },
  "orig_nbformat": 4,
  "vscode": {
   "interpreter": {
    "hash": "1ef85e616870e7d56d716b55335f3f5a69025a0c34503e2ffb50545a01168bfc"
   }
  }
 },
 "nbformat": 4,
 "nbformat_minor": 2
}
